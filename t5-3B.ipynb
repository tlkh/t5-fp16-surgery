{
 "cells": [
  {
   "cell_type": "code",
   "execution_count": 1,
   "id": "0572db99-7800-425f-a117-4f74bacbaf83",
   "metadata": {},
   "outputs": [],
   "source": [
    "import utils\n",
    "from transformers import T5Tokenizer, T5ForConditionalGeneration\n",
    "  \n",
    "tokenizer = T5Tokenizer.from_pretrained(\"t5-3b\", cache_dir=\"../cache\")\n",
    "model = T5ForConditionalGeneration.from_pretrained(\"t5-3b\", cache_dir=\"../cache\")"
   ]
  },
  {
   "cell_type": "code",
   "execution_count": 2,
   "id": "fc1b113c-803f-42c3-b188-37d8dc930563",
   "metadata": {},
   "outputs": [
    {
     "name": "stdout",
     "output_type": "stream",
     "text": [
      "Testing encoder\n",
      "Success at encoder 20 FF2\n",
      "5 % of model params reset\n"
     ]
    }
   ],
   "source": [
    "model, percent_reset = utils.search_and_reset_layers(model, tokenizer, scale_down_factor=2, revert_old=False)\n",
    "print(percent_reset, \"% of model params reset\")"
   ]
  },
  {
   "cell_type": "code",
   "execution_count": 3,
   "id": "f28e2c3a-d72f-4126-9e04-96af5f790eae",
   "metadata": {},
   "outputs": [
    {
     "name": "stdout",
     "output_type": "stream",
     "text": [
      "Das Haus ist wunderbar, besonders im Winter.\n",
      "unacceptable\n",
      "1.6\n"
     ]
    }
   ],
   "source": [
    "model.half().eval()\n",
    "\n",
    "# test 1: translation\n",
    "\n",
    "input_ids = tokenizer('translate English to German: The house is wonderful, especially in winter.', return_tensors='pt').input_ids\n",
    "outputs = model.generate(input_ids.cuda())\n",
    "print(tokenizer.decode(outputs[0], skip_special_tokens=True))\n",
    "\n",
    "# test 2: cola\n",
    "\n",
    "input_ids = tokenizer('cola sentence: She voted herself for.', return_tensors='pt').input_ids\n",
    "outputs = model.generate(input_ids.cuda())\n",
    "print(tokenizer.decode(outputs[0], skip_special_tokens=True))\n",
    "\n",
    "# test 3: stsb\n",
    "\n",
    "input_ids = tokenizer('stsb sentence1: Apple and orange. stsb sentence2: Apple and banana.', return_tensors='pt').input_ids\n",
    "outputs = model.generate(input_ids.cuda())\n",
    "print(tokenizer.decode(outputs[0], skip_special_tokens=True))"
   ]
  },
  {
   "cell_type": "code",
   "execution_count": 4,
   "id": "05707bc2-412e-4deb-9a1d-fcaa0cfe7acf",
   "metadata": {},
   "outputs": [
    {
     "data": {
      "text/plain": [
       "('../t5_3B_fp16_untuned/tokenizer_config.json',\n",
       " '../t5_3B_fp16_untuned/special_tokens_map.json',\n",
       " '../t5_3B_fp16_untuned/spiece.model',\n",
       " '../t5_3B_fp16_untuned/added_tokens.json')"
      ]
     },
     "execution_count": 4,
     "metadata": {},
     "output_type": "execute_result"
    }
   ],
   "source": [
    "model.save_pretrained(\"../t5_3B_fp16_untuned\")\n",
    "tokenizer.save_pretrained(\"../t5_3B_fp16_untuned\")"
   ]
  },
  {
   "cell_type": "code",
   "execution_count": null,
   "id": "444660f3-f28c-4582-af0b-4c2b8949c746",
   "metadata": {},
   "outputs": [],
   "source": []
  }
 ],
 "metadata": {
  "kernelspec": {
   "display_name": "Python 3 (ipykernel)",
   "language": "python",
   "name": "python3"
  },
  "language_info": {
   "codemirror_mode": {
    "name": "ipython",
    "version": 3
   },
   "file_extension": ".py",
   "mimetype": "text/x-python",
   "name": "python",
   "nbconvert_exporter": "python",
   "pygments_lexer": "ipython3",
   "version": "3.8.12"
  }
 },
 "nbformat": 4,
 "nbformat_minor": 5
}
